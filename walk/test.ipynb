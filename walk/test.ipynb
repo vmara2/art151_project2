{
 "metadata": {
  "language_info": {
   "codemirror_mode": {
    "name": "ipython",
    "version": 3
   },
   "file_extension": ".py",
   "mimetype": "text/x-python",
   "name": "python",
   "nbconvert_exporter": "python",
   "pygments_lexer": "ipython3",
   "version": "3.8.3-final"
  },
  "orig_nbformat": 2,
  "kernelspec": {
   "name": "Python 3.8.3 64-bit ('base': conda)",
   "display_name": "Python 3.8.3 64-bit ('base': conda)",
   "metadata": {
    "interpreter": {
     "hash": "89d240e11a697cfb623f48c9b4e18e3e61f799892704aa4237270166a06e106f"
    }
   }
  }
 },
 "nbformat": 4,
 "nbformat_minor": 2,
 "cells": [
  {
   "cell_type": "code",
   "execution_count": null,
   "metadata": {},
   "outputs": [],
   "source": []
  },
  {
   "cell_type": "code",
   "execution_count": 23,
   "metadata": {},
   "outputs": [],
   "source": [
    "reddit = \"reddit\"\n",
    "runescape = \"runescape\"\n",
    "valorant = \"valorant\""
   ]
  },
  {
   "cell_type": "code",
   "execution_count": 24,
   "metadata": {},
   "outputs": [],
   "source": [
    "item_info = (rs.GrandExchange.item(227))"
   ]
  },
  {
   "cell_type": "code",
   "execution_count": 25,
   "metadata": {},
   "outputs": [
    {
     "output_type": "execute_result",
     "data": {
      "text/plain": [
       "77"
      ]
     },
     "metadata": {},
     "execution_count": 25
    }
   ],
   "source": [
    "seed = item_info['item']['current']['price']\n",
    "seed"
   ]
  },
  {
   "cell_type": "code",
   "execution_count": 26,
   "metadata": {},
   "outputs": [
    {
     "output_type": "execute_result",
     "data": {
      "text/plain": [
       "'Jobs at Reddit - Greenhouseboards.greenhouse.io › reddit'"
      ]
     },
     "metadata": {},
     "execution_count": 26
    }
   ],
   "source": [
    "request = requests.get(f\"https://www.google.com/search?q={reddit}&num={100}\")\n",
    "reddit_soup = BeautifulSoup(request.content, \"html.parser\")\n",
    "\n",
    "links = reddit_soup.find_all('a')\n",
    "links[seed].text"
   ]
  },
  {
   "cell_type": "code",
   "execution_count": null,
   "metadata": {},
   "outputs": [],
   "source": []
  },
  {
   "cell_type": "code",
   "execution_count": 22,
   "metadata": {},
   "outputs": [],
   "source": [
    "from bs4 import BeautifulSoup\n",
    "import requests\n",
    "import re\n",
    "import runescapeapi as rs"
   ]
  }
 ]
}